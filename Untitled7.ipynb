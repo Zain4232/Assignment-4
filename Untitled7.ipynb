{
 "cells": [
  {
   "cell_type": "code",
   "execution_count": 1,
   "id": "def16b52",
   "metadata": {},
   "outputs": [
    {
     "name": "stdout",
     "output_type": "stream",
     "text": [
      "select operation.\n",
      "1.add\n",
      "2.subtract\n",
      "3.multiply\n",
      "4.divide\n",
      "enter choice(1/2/3/4: 1\n",
      "enter first number: 5\n",
      "enter second number: 12\n",
      "5.0 + 12.0 = 17.0\n"
     ]
    }
   ],
   "source": [
    "#1 make a calculator using python with addition,subtraction,multiplication,division and power.\n",
    "def add(x, y):\n",
    "    return x+y\n",
    "def subtract(x, y):\n",
    "    return x-y\n",
    "def multiply(x, y):\n",
    "    return x*y\n",
    "def divide(x, y):\n",
    "    return x/y\n",
    "print(\"select operation.\")\n",
    "print(\"1.add\")\n",
    "print(\"2.subtract\")\n",
    "print(\"3.multiply\")\n",
    "print(\"4.divide\")\n",
    "\n",
    "choice=input(\"enter choice(1/2/3/4: \")\n",
    "num1=float(input(\"enter first number: \"))\n",
    "num2=float(input(\"enter second number: \"))\n",
    "if choice=='1':\n",
    "    print(num1,\"+\",num2,\"=\",add(num1,num2))\n",
    "elif choice=='2':\n",
    "    print(num1,\"-\",num2,\"=\",subtract(num1,num2))\n",
    "elif choice=='3':\n",
    "    print(num1,\"*\",num2,\"=\",multiply(num1,num2))\n",
    "elif choice=='4':\n",
    "    print(num1,\"/\",num2,\"=\",divide(num1,num2))\n",
    "else:\n",
    "    print(\"invalid input\")"
   ]
  },
  {
   "cell_type": "code",
   "execution_count": 2,
   "id": "82092114",
   "metadata": {},
   "outputs": [
    {
     "name": "stdout",
     "output_type": "stream",
     "text": [
      "0 a\n",
      "1 b\n",
      "2 c\n"
     ]
    }
   ],
   "source": [
    "#2 write a python program to check if there any numeric value in list using for loop.\n",
    "letters=[\"a\",\"b\",\"c\"]\n",
    "items=(0,\"a\")\n",
    "index,letter=items\n",
    "for index,letter in enumerate(letters):\n",
    "    print(index,letter)"
   ]
  },
  {
   "cell_type": "code",
   "execution_count": 5,
   "id": "65293f2c",
   "metadata": {},
   "outputs": [
    {
     "name": "stdout",
     "output_type": "stream",
     "text": [
      "{'Pakistan': 'Islamabad', 'India': 'Dehli', 'Iran': 'Tehran', 'Syria': 'Damascus'}\n"
     ]
    }
   ],
   "source": [
    "#3 write a python script to add a key to a dictionary.\n",
    "capitals={'Pakistan':'Islamabad','India':'Dehli','Iran':'Tehran'}\n",
    "capitals['Syria']='Damascus'\n",
    "print(capitals)"
   ]
  },
  {
   "cell_type": "code",
   "execution_count": 7,
   "id": "cfbda549",
   "metadata": {},
   "outputs": [
    {
     "name": "stdout",
     "output_type": "stream",
     "text": [
      "marks of four students...\n",
      "{'A': 35, 'B': 40, 'c': 38, 'D': 45}\n",
      "total marks: 158\n"
     ]
    }
   ],
   "source": [
    "#4 write a python program to sum all the numeric items in a dictionary.\n",
    "detail={'A':35,'B':40,'c':38,'D':45}\n",
    "print('marks of four students...')\n",
    "print(detail)\n",
    "tot=sum(detail.values())\n",
    "print('total marks:',tot)"
   ]
  },
  {
   "cell_type": "code",
   "execution_count": 13,
   "id": "4612b350",
   "metadata": {},
   "outputs": [
    {
     "name": "stdout",
     "output_type": "stream",
     "text": [
      "1\n",
      "3\n"
     ]
    }
   ],
   "source": [
    "#5 write a python program to identify the duplicate values from list.\n",
    "list1=[1,2,3,1,7,8,3,9]\n",
    "list2=[]\n",
    "for i in list1:\n",
    "    if i not in list2:\n",
    "        list2.append(i)\n",
    "    else:\n",
    "        print(i)"
   ]
  },
  {
   "cell_type": "code",
   "execution_count": null,
   "id": "a7040962",
   "metadata": {},
   "outputs": [],
   "source": []
  }
 ],
 "metadata": {
  "kernelspec": {
   "display_name": "Python 3",
   "language": "python",
   "name": "python3"
  },
  "language_info": {
   "codemirror_mode": {
    "name": "ipython",
    "version": 3
   },
   "file_extension": ".py",
   "mimetype": "text/x-python",
   "name": "python",
   "nbconvert_exporter": "python",
   "pygments_lexer": "ipython3",
   "version": "3.8.8"
  }
 },
 "nbformat": 4,
 "nbformat_minor": 5
}
